{
 "cells": [
  {
   "cell_type": "code",
   "execution_count": 1,
   "id": "379c9cf1",
   "metadata": {},
   "outputs": [],
   "source": [
    "import pandas as pd\n",
    "import numpy as np\n",
    "import matplotlib.pyplot as plt\n",
    "import seaborn as sns\n",
    "\n",
    "from datetime import datetime\n",
    "\n",
    "import warnings\n",
    "warnings.filterwarnings('ignore')"
   ]
  },
  {
   "cell_type": "markdown",
   "id": "c8fa9c31",
   "metadata": {},
   "source": [
    "- InvoiceNo: Invoice number. Nominal, a 6-digit integral number uniquely assigned to each transaction. If this code starts with letter 'c', it indicates a cancellation.\n",
    "- StockCode: Product (item) code. Nominal, a 5-digit integral number uniquely assigned to each distinct product.\n",
    "- Description: Product (item) name. Nominal.\n",
    "- Quantity: The quantities of each product (item) per transaction. Numeric.\n",
    "- InvoiceDate: Invice Date and time. Numeric, the day and time when each transaction was generated.\n",
    "- UnitPrice: Unit price. Numeric, Product price per unit in sterling.\n",
    "- CustomerID: Customer number. Nominal, a 5-digit integral number uniquely assigned to each customer.\n",
    "- Country: Country name. Nominal, the name of the country where each customer resides."
   ]
  },
  {
   "cell_type": "code",
   "execution_count": 2,
   "id": "ad60e954",
   "metadata": {},
   "outputs": [],
   "source": [
    "data0910 = pd.read_csv(\"dataset/data0910.csv\")\n",
    "data1011 = pd.read_csv(\"dataset/data1011.csv\")"
   ]
  },
  {
   "cell_type": "code",
   "execution_count": 3,
   "id": "6d2dcd79",
   "metadata": {},
   "outputs": [],
   "source": [
    "data = pd.concat([data0910, data1011], axis=0)"
   ]
  },
  {
   "cell_type": "code",
   "execution_count": 4,
   "id": "c2f03cb0",
   "metadata": {},
   "outputs": [],
   "source": [
    "data = data.drop_duplicates()"
   ]
  },
  {
   "cell_type": "code",
   "execution_count": 5,
   "id": "98d4106c",
   "metadata": {},
   "outputs": [
    {
     "data": {
      "text/plain": [
       "Invoice             0\n",
       "StockCode           0\n",
       "Description      4275\n",
       "Quantity            0\n",
       "InvoiceDate         0\n",
       "Price               0\n",
       "Customer ID    235151\n",
       "Country             0\n",
       "dtype: int64"
      ]
     },
     "execution_count": 5,
     "metadata": {},
     "output_type": "execute_result"
    }
   ],
   "source": [
    "data.isnull().sum()"
   ]
  },
  {
   "cell_type": "code",
   "execution_count": 6,
   "id": "a339c75a",
   "metadata": {},
   "outputs": [
    {
     "name": "stdout",
     "output_type": "stream",
     "text": [
      "<class 'pandas.core.frame.DataFrame'>\n",
      "Int64Index: 1033036 entries, 0 to 541909\n",
      "Data columns (total 8 columns):\n",
      " #   Column       Non-Null Count    Dtype  \n",
      "---  ------       --------------    -----  \n",
      " 0   Invoice      1033036 non-null  object \n",
      " 1   StockCode    1033036 non-null  object \n",
      " 2   Description  1028761 non-null  object \n",
      " 3   Quantity     1033036 non-null  int64  \n",
      " 4   InvoiceDate  1033036 non-null  object \n",
      " 5   Price        1033036 non-null  float64\n",
      " 6   Customer ID  797885 non-null   float64\n",
      " 7   Country      1033036 non-null  object \n",
      "dtypes: float64(2), int64(1), object(5)\n",
      "memory usage: 70.9+ MB\n"
     ]
    }
   ],
   "source": [
    "data.info()"
   ]
  },
  {
   "cell_type": "code",
   "execution_count": 7,
   "id": "5b6ea24d",
   "metadata": {},
   "outputs": [],
   "source": [
    "data = data.dropna()"
   ]
  },
  {
   "cell_type": "code",
   "execution_count": 8,
   "id": "5352e943",
   "metadata": {},
   "outputs": [],
   "source": [
    "data['date'] = data['InvoiceDate'].apply(lambda x : x.split()[0])\n",
    "data['time'] = data['InvoiceDate'].apply(lambda x : x.split()[1])\n",
    "\n",
    "data['hour'] = data['time'].apply(lambda x : x.split(':')[0])\n",
    "\n",
    "data['date'] = data['date'].apply(lambda x : datetime.strptime(x, '%m/%d/%Y'))\n",
    "data['year'] = data['date'].apply(lambda x : x.year)\n",
    "data['month'] = data['date'].apply(lambda x : x.month)\n",
    "data['day'] = data['date'].apply(lambda x : x.day)\n",
    "data ['quarter'] = data['date'].apply(lambda x : x.quarter)\n",
    "data['weekday'] = data['date'].apply(lambda x : x.day_name())\n",
    "\n",
    "data['total_price'] = data['Quantity'] * data['Price']"
   ]
  },
  {
   "cell_type": "code",
   "execution_count": 9,
   "id": "57e40341",
   "metadata": {
    "scrolled": false
   },
   "outputs": [
    {
     "data": {
      "text/html": [
       "<div>\n",
       "<style scoped>\n",
       "    .dataframe tbody tr th:only-of-type {\n",
       "        vertical-align: middle;\n",
       "    }\n",
       "\n",
       "    .dataframe tbody tr th {\n",
       "        vertical-align: top;\n",
       "    }\n",
       "\n",
       "    .dataframe thead th {\n",
       "        text-align: right;\n",
       "    }\n",
       "</style>\n",
       "<table border=\"1\" class=\"dataframe\">\n",
       "  <thead>\n",
       "    <tr style=\"text-align: right;\">\n",
       "      <th></th>\n",
       "      <th>Quantity</th>\n",
       "      <th>Price</th>\n",
       "      <th>Customer ID</th>\n",
       "      <th>year</th>\n",
       "      <th>month</th>\n",
       "      <th>day</th>\n",
       "      <th>quarter</th>\n",
       "      <th>total_price</th>\n",
       "    </tr>\n",
       "  </thead>\n",
       "  <tbody>\n",
       "    <tr>\n",
       "      <th>count</th>\n",
       "      <td>797885.000000</td>\n",
       "      <td>797885.000000</td>\n",
       "      <td>797885.000000</td>\n",
       "      <td>797885.000000</td>\n",
       "      <td>797885.000000</td>\n",
       "      <td>797885.000000</td>\n",
       "      <td>797885.000000</td>\n",
       "      <td>797885.000000</td>\n",
       "    </tr>\n",
       "    <tr>\n",
       "      <th>mean</th>\n",
       "      <td>12.602980</td>\n",
       "      <td>3.702732</td>\n",
       "      <td>15313.062777</td>\n",
       "      <td>2010.431108</td>\n",
       "      <td>7.411434</td>\n",
       "      <td>15.387388</td>\n",
       "      <td>2.795019</td>\n",
       "      <td>20.416465</td>\n",
       "    </tr>\n",
       "    <tr>\n",
       "      <th>std</th>\n",
       "      <td>191.670371</td>\n",
       "      <td>71.392549</td>\n",
       "      <td>1696.466663</td>\n",
       "      <td>0.568904</td>\n",
       "      <td>3.424495</td>\n",
       "      <td>8.658264</td>\n",
       "      <td>1.132430</td>\n",
       "      <td>313.518824</td>\n",
       "    </tr>\n",
       "    <tr>\n",
       "      <th>min</th>\n",
       "      <td>-80995.000000</td>\n",
       "      <td>0.000000</td>\n",
       "      <td>12346.000000</td>\n",
       "      <td>2009.000000</td>\n",
       "      <td>1.000000</td>\n",
       "      <td>1.000000</td>\n",
       "      <td>1.000000</td>\n",
       "      <td>-168469.600000</td>\n",
       "    </tr>\n",
       "    <tr>\n",
       "      <th>25%</th>\n",
       "      <td>2.000000</td>\n",
       "      <td>1.250000</td>\n",
       "      <td>13964.000000</td>\n",
       "      <td>2010.000000</td>\n",
       "      <td>5.000000</td>\n",
       "      <td>8.000000</td>\n",
       "      <td>2.000000</td>\n",
       "      <td>4.350000</td>\n",
       "    </tr>\n",
       "    <tr>\n",
       "      <th>50%</th>\n",
       "      <td>5.000000</td>\n",
       "      <td>1.950000</td>\n",
       "      <td>15228.000000</td>\n",
       "      <td>2010.000000</td>\n",
       "      <td>8.000000</td>\n",
       "      <td>15.000000</td>\n",
       "      <td>3.000000</td>\n",
       "      <td>11.700000</td>\n",
       "    </tr>\n",
       "    <tr>\n",
       "      <th>75%</th>\n",
       "      <td>12.000000</td>\n",
       "      <td>3.750000</td>\n",
       "      <td>16788.000000</td>\n",
       "      <td>2011.000000</td>\n",
       "      <td>10.000000</td>\n",
       "      <td>23.000000</td>\n",
       "      <td>4.000000</td>\n",
       "      <td>19.500000</td>\n",
       "    </tr>\n",
       "    <tr>\n",
       "      <th>max</th>\n",
       "      <td>80995.000000</td>\n",
       "      <td>38970.000000</td>\n",
       "      <td>18287.000000</td>\n",
       "      <td>2011.000000</td>\n",
       "      <td>12.000000</td>\n",
       "      <td>31.000000</td>\n",
       "      <td>4.000000</td>\n",
       "      <td>168469.600000</td>\n",
       "    </tr>\n",
       "  </tbody>\n",
       "</table>\n",
       "</div>"
      ],
      "text/plain": [
       "            Quantity          Price    Customer ID           year  \\\n",
       "count  797885.000000  797885.000000  797885.000000  797885.000000   \n",
       "mean       12.602980       3.702732   15313.062777    2010.431108   \n",
       "std       191.670371      71.392549    1696.466663       0.568904   \n",
       "min    -80995.000000       0.000000   12346.000000    2009.000000   \n",
       "25%         2.000000       1.250000   13964.000000    2010.000000   \n",
       "50%         5.000000       1.950000   15228.000000    2010.000000   \n",
       "75%        12.000000       3.750000   16788.000000    2011.000000   \n",
       "max     80995.000000   38970.000000   18287.000000    2011.000000   \n",
       "\n",
       "               month            day        quarter    total_price  \n",
       "count  797885.000000  797885.000000  797885.000000  797885.000000  \n",
       "mean        7.411434      15.387388       2.795019      20.416465  \n",
       "std         3.424495       8.658264       1.132430     313.518824  \n",
       "min         1.000000       1.000000       1.000000 -168469.600000  \n",
       "25%         5.000000       8.000000       2.000000       4.350000  \n",
       "50%         8.000000      15.000000       3.000000      11.700000  \n",
       "75%        10.000000      23.000000       4.000000      19.500000  \n",
       "max        12.000000      31.000000       4.000000  168469.600000  "
      ]
     },
     "execution_count": 9,
     "metadata": {},
     "output_type": "execute_result"
    }
   ],
   "source": [
    "data.describe()"
   ]
  },
  {
   "cell_type": "markdown",
   "id": "f3105a17",
   "metadata": {},
   "source": [
    "### Quantity -1 인 이유 \n",
    "    - 취소된 상품\n",
    "    - 취소되면 'InvoiceNo'에 C가 붙게됨"
   ]
  },
  {
   "cell_type": "code",
   "execution_count": 10,
   "id": "7ec66a93",
   "metadata": {},
   "outputs": [],
   "source": [
    "tmp = data[data['Quantity'] < 0]"
   ]
  },
  {
   "cell_type": "code",
   "execution_count": 11,
   "id": "56e5ce2b",
   "metadata": {
    "collapsed": true
   },
   "outputs": [
    {
     "data": {
      "text/html": [
       "<div>\n",
       "<style scoped>\n",
       "    .dataframe tbody tr th:only-of-type {\n",
       "        vertical-align: middle;\n",
       "    }\n",
       "\n",
       "    .dataframe tbody tr th {\n",
       "        vertical-align: top;\n",
       "    }\n",
       "\n",
       "    .dataframe thead th {\n",
       "        text-align: right;\n",
       "    }\n",
       "</style>\n",
       "<table border=\"1\" class=\"dataframe\">\n",
       "  <thead>\n",
       "    <tr style=\"text-align: right;\">\n",
       "      <th></th>\n",
       "      <th>Invoice</th>\n",
       "      <th>StockCode</th>\n",
       "      <th>Description</th>\n",
       "      <th>Quantity</th>\n",
       "      <th>InvoiceDate</th>\n",
       "      <th>Price</th>\n",
       "      <th>Customer ID</th>\n",
       "      <th>Country</th>\n",
       "      <th>date</th>\n",
       "      <th>time</th>\n",
       "      <th>hour</th>\n",
       "      <th>year</th>\n",
       "      <th>month</th>\n",
       "      <th>day</th>\n",
       "      <th>quarter</th>\n",
       "      <th>weekday</th>\n",
       "      <th>total_price</th>\n",
       "    </tr>\n",
       "  </thead>\n",
       "  <tbody>\n",
       "    <tr>\n",
       "      <th>178</th>\n",
       "      <td>C489449</td>\n",
       "      <td>22087</td>\n",
       "      <td>PAPER BUNTING WHITE LACE</td>\n",
       "      <td>-12</td>\n",
       "      <td>12/1/2009 10:33</td>\n",
       "      <td>2.95</td>\n",
       "      <td>16321.0</td>\n",
       "      <td>Australia</td>\n",
       "      <td>2009-12-01</td>\n",
       "      <td>10:33</td>\n",
       "      <td>10</td>\n",
       "      <td>2009</td>\n",
       "      <td>12</td>\n",
       "      <td>1</td>\n",
       "      <td>4</td>\n",
       "      <td>Tuesday</td>\n",
       "      <td>-35.40</td>\n",
       "    </tr>\n",
       "    <tr>\n",
       "      <th>179</th>\n",
       "      <td>C489449</td>\n",
       "      <td>85206A</td>\n",
       "      <td>CREAM FELT EASTER EGG BASKET</td>\n",
       "      <td>-6</td>\n",
       "      <td>12/1/2009 10:33</td>\n",
       "      <td>1.65</td>\n",
       "      <td>16321.0</td>\n",
       "      <td>Australia</td>\n",
       "      <td>2009-12-01</td>\n",
       "      <td>10:33</td>\n",
       "      <td>10</td>\n",
       "      <td>2009</td>\n",
       "      <td>12</td>\n",
       "      <td>1</td>\n",
       "      <td>4</td>\n",
       "      <td>Tuesday</td>\n",
       "      <td>-9.90</td>\n",
       "    </tr>\n",
       "    <tr>\n",
       "      <th>180</th>\n",
       "      <td>C489449</td>\n",
       "      <td>21895</td>\n",
       "      <td>POTTING SHED SOW 'N' GROW SET</td>\n",
       "      <td>-4</td>\n",
       "      <td>12/1/2009 10:33</td>\n",
       "      <td>4.25</td>\n",
       "      <td>16321.0</td>\n",
       "      <td>Australia</td>\n",
       "      <td>2009-12-01</td>\n",
       "      <td>10:33</td>\n",
       "      <td>10</td>\n",
       "      <td>2009</td>\n",
       "      <td>12</td>\n",
       "      <td>1</td>\n",
       "      <td>4</td>\n",
       "      <td>Tuesday</td>\n",
       "      <td>-17.00</td>\n",
       "    </tr>\n",
       "    <tr>\n",
       "      <th>181</th>\n",
       "      <td>C489449</td>\n",
       "      <td>21896</td>\n",
       "      <td>POTTING SHED TWINE</td>\n",
       "      <td>-6</td>\n",
       "      <td>12/1/2009 10:33</td>\n",
       "      <td>2.10</td>\n",
       "      <td>16321.0</td>\n",
       "      <td>Australia</td>\n",
       "      <td>2009-12-01</td>\n",
       "      <td>10:33</td>\n",
       "      <td>10</td>\n",
       "      <td>2009</td>\n",
       "      <td>12</td>\n",
       "      <td>1</td>\n",
       "      <td>4</td>\n",
       "      <td>Tuesday</td>\n",
       "      <td>-12.60</td>\n",
       "    </tr>\n",
       "    <tr>\n",
       "      <th>182</th>\n",
       "      <td>C489449</td>\n",
       "      <td>22083</td>\n",
       "      <td>PAPER CHAIN KIT RETRO SPOT</td>\n",
       "      <td>-12</td>\n",
       "      <td>12/1/2009 10:33</td>\n",
       "      <td>2.95</td>\n",
       "      <td>16321.0</td>\n",
       "      <td>Australia</td>\n",
       "      <td>2009-12-01</td>\n",
       "      <td>10:33</td>\n",
       "      <td>10</td>\n",
       "      <td>2009</td>\n",
       "      <td>12</td>\n",
       "      <td>1</td>\n",
       "      <td>4</td>\n",
       "      <td>Tuesday</td>\n",
       "      <td>-35.40</td>\n",
       "    </tr>\n",
       "    <tr>\n",
       "      <th>...</th>\n",
       "      <td>...</td>\n",
       "      <td>...</td>\n",
       "      <td>...</td>\n",
       "      <td>...</td>\n",
       "      <td>...</td>\n",
       "      <td>...</td>\n",
       "      <td>...</td>\n",
       "      <td>...</td>\n",
       "      <td>...</td>\n",
       "      <td>...</td>\n",
       "      <td>...</td>\n",
       "      <td>...</td>\n",
       "      <td>...</td>\n",
       "      <td>...</td>\n",
       "      <td>...</td>\n",
       "      <td>...</td>\n",
       "      <td>...</td>\n",
       "    </tr>\n",
       "    <tr>\n",
       "      <th>540449</th>\n",
       "      <td>C581490</td>\n",
       "      <td>23144</td>\n",
       "      <td>ZINC T-LIGHT HOLDER STARS SMALL</td>\n",
       "      <td>-11</td>\n",
       "      <td>12/9/2011 9:57</td>\n",
       "      <td>0.83</td>\n",
       "      <td>14397.0</td>\n",
       "      <td>United Kingdom</td>\n",
       "      <td>2011-12-09</td>\n",
       "      <td>9:57</td>\n",
       "      <td>9</td>\n",
       "      <td>2011</td>\n",
       "      <td>12</td>\n",
       "      <td>9</td>\n",
       "      <td>4</td>\n",
       "      <td>Friday</td>\n",
       "      <td>-9.13</td>\n",
       "    </tr>\n",
       "    <tr>\n",
       "      <th>541541</th>\n",
       "      <td>C581499</td>\n",
       "      <td>M</td>\n",
       "      <td>Manual</td>\n",
       "      <td>-1</td>\n",
       "      <td>12/9/2011 10:28</td>\n",
       "      <td>224.69</td>\n",
       "      <td>15498.0</td>\n",
       "      <td>United Kingdom</td>\n",
       "      <td>2011-12-09</td>\n",
       "      <td>10:28</td>\n",
       "      <td>10</td>\n",
       "      <td>2011</td>\n",
       "      <td>12</td>\n",
       "      <td>9</td>\n",
       "      <td>4</td>\n",
       "      <td>Friday</td>\n",
       "      <td>-224.69</td>\n",
       "    </tr>\n",
       "    <tr>\n",
       "      <th>541715</th>\n",
       "      <td>C581568</td>\n",
       "      <td>21258</td>\n",
       "      <td>VICTORIAN SEWING BOX LARGE</td>\n",
       "      <td>-5</td>\n",
       "      <td>12/9/2011 11:57</td>\n",
       "      <td>10.95</td>\n",
       "      <td>15311.0</td>\n",
       "      <td>United Kingdom</td>\n",
       "      <td>2011-12-09</td>\n",
       "      <td>11:57</td>\n",
       "      <td>11</td>\n",
       "      <td>2011</td>\n",
       "      <td>12</td>\n",
       "      <td>9</td>\n",
       "      <td>4</td>\n",
       "      <td>Friday</td>\n",
       "      <td>-54.75</td>\n",
       "    </tr>\n",
       "    <tr>\n",
       "      <th>541716</th>\n",
       "      <td>C581569</td>\n",
       "      <td>84978</td>\n",
       "      <td>HANGING HEART JAR T-LIGHT HOLDER</td>\n",
       "      <td>-1</td>\n",
       "      <td>12/9/2011 11:58</td>\n",
       "      <td>1.25</td>\n",
       "      <td>17315.0</td>\n",
       "      <td>United Kingdom</td>\n",
       "      <td>2011-12-09</td>\n",
       "      <td>11:58</td>\n",
       "      <td>11</td>\n",
       "      <td>2011</td>\n",
       "      <td>12</td>\n",
       "      <td>9</td>\n",
       "      <td>4</td>\n",
       "      <td>Friday</td>\n",
       "      <td>-1.25</td>\n",
       "    </tr>\n",
       "    <tr>\n",
       "      <th>541717</th>\n",
       "      <td>C581569</td>\n",
       "      <td>20979</td>\n",
       "      <td>36 PENCILS TUBE RED RETROSPOT</td>\n",
       "      <td>-5</td>\n",
       "      <td>12/9/2011 11:58</td>\n",
       "      <td>1.25</td>\n",
       "      <td>17315.0</td>\n",
       "      <td>United Kingdom</td>\n",
       "      <td>2011-12-09</td>\n",
       "      <td>11:58</td>\n",
       "      <td>11</td>\n",
       "      <td>2011</td>\n",
       "      <td>12</td>\n",
       "      <td>9</td>\n",
       "      <td>4</td>\n",
       "      <td>Friday</td>\n",
       "      <td>-6.25</td>\n",
       "    </tr>\n",
       "  </tbody>\n",
       "</table>\n",
       "<p>18390 rows × 17 columns</p>\n",
       "</div>"
      ],
      "text/plain": [
       "        Invoice StockCode                       Description  Quantity  \\\n",
       "178     C489449     22087          PAPER BUNTING WHITE LACE       -12   \n",
       "179     C489449    85206A      CREAM FELT EASTER EGG BASKET        -6   \n",
       "180     C489449     21895     POTTING SHED SOW 'N' GROW SET        -4   \n",
       "181     C489449     21896                POTTING SHED TWINE        -6   \n",
       "182     C489449     22083        PAPER CHAIN KIT RETRO SPOT       -12   \n",
       "...         ...       ...                               ...       ...   \n",
       "540449  C581490     23144   ZINC T-LIGHT HOLDER STARS SMALL       -11   \n",
       "541541  C581499         M                            Manual        -1   \n",
       "541715  C581568     21258        VICTORIAN SEWING BOX LARGE        -5   \n",
       "541716  C581569     84978  HANGING HEART JAR T-LIGHT HOLDER        -1   \n",
       "541717  C581569     20979     36 PENCILS TUBE RED RETROSPOT        -5   \n",
       "\n",
       "            InvoiceDate   Price  Customer ID         Country       date  \\\n",
       "178     12/1/2009 10:33    2.95      16321.0       Australia 2009-12-01   \n",
       "179     12/1/2009 10:33    1.65      16321.0       Australia 2009-12-01   \n",
       "180     12/1/2009 10:33    4.25      16321.0       Australia 2009-12-01   \n",
       "181     12/1/2009 10:33    2.10      16321.0       Australia 2009-12-01   \n",
       "182     12/1/2009 10:33    2.95      16321.0       Australia 2009-12-01   \n",
       "...                 ...     ...          ...             ...        ...   \n",
       "540449   12/9/2011 9:57    0.83      14397.0  United Kingdom 2011-12-09   \n",
       "541541  12/9/2011 10:28  224.69      15498.0  United Kingdom 2011-12-09   \n",
       "541715  12/9/2011 11:57   10.95      15311.0  United Kingdom 2011-12-09   \n",
       "541716  12/9/2011 11:58    1.25      17315.0  United Kingdom 2011-12-09   \n",
       "541717  12/9/2011 11:58    1.25      17315.0  United Kingdom 2011-12-09   \n",
       "\n",
       "         time hour  year  month  day  quarter  weekday  total_price  \n",
       "178     10:33   10  2009     12    1        4  Tuesday       -35.40  \n",
       "179     10:33   10  2009     12    1        4  Tuesday        -9.90  \n",
       "180     10:33   10  2009     12    1        4  Tuesday       -17.00  \n",
       "181     10:33   10  2009     12    1        4  Tuesday       -12.60  \n",
       "182     10:33   10  2009     12    1        4  Tuesday       -35.40  \n",
       "...       ...  ...   ...    ...  ...      ...      ...          ...  \n",
       "540449   9:57    9  2011     12    9        4   Friday        -9.13  \n",
       "541541  10:28   10  2011     12    9        4   Friday      -224.69  \n",
       "541715  11:57   11  2011     12    9        4   Friday       -54.75  \n",
       "541716  11:58   11  2011     12    9        4   Friday        -1.25  \n",
       "541717  11:58   11  2011     12    9        4   Friday        -6.25  \n",
       "\n",
       "[18390 rows x 17 columns]"
      ]
     },
     "execution_count": 11,
     "metadata": {},
     "output_type": "execute_result"
    }
   ],
   "source": [
    "tmp[tmp['Invoice'].str.find(\"C\") == 0]"
   ]
  },
  {
   "cell_type": "markdown",
   "id": "39e0b417",
   "metadata": {},
   "source": [
    "### StockCode의 규칙\n",
    " - 문자로 이루어진 stockcode는 description도 통일되어 있음"
   ]
  },
  {
   "cell_type": "code",
   "execution_count": 12,
   "id": "3150a98a",
   "metadata": {},
   "outputs": [
    {
     "data": {
      "text/plain": [
       "POST            1983\n",
       "M               1085\n",
       "C2               254\n",
       "D                170\n",
       "ADJUST            61\n",
       "BANK CHARGES      37\n",
       "PADS              19\n",
       "CRUK              16\n",
       "DOT               16\n",
       "TEST001           15\n",
       "ADJUST2            3\n",
       "SP1002             2\n",
       "TEST002            1\n",
       "Name: StockCode, dtype: int64"
      ]
     },
     "execution_count": 12,
     "metadata": {},
     "output_type": "execute_result"
    }
   ],
   "source": [
    "# 문자로만\n",
    "a = data[data['StockCode'].str.contains('^[a-zA-Z]+', regex=True)]\n",
    "a['StockCode'].value_counts()"
   ]
  },
  {
   "cell_type": "code",
   "execution_count": 13,
   "id": "15c98f45",
   "metadata": {},
   "outputs": [],
   "source": [
    "# stockcode 문자 dropna : 상품에 대한 것이 아니기 때문\n",
    "data = data[~data['StockCode'].str.contains('^[a-zA-Z]+', regex=True)]"
   ]
  },
  {
   "cell_type": "markdown",
   "id": "a78ed067",
   "metadata": {},
   "source": [
    "### revenue"
   ]
  },
  {
   "cell_type": "markdown",
   "id": "6f246034",
   "metadata": {},
   "source": [
    "- ARPPU(Average Revenue Per Paying User)\n",
    "    - ARPPU = total revenue / user"
   ]
  },
  {
   "cell_type": "code",
   "execution_count": 23,
   "id": "e3c03606",
   "metadata": {},
   "outputs": [
    {
     "data": {
      "text/plain": [
       "16358614.54"
      ]
     },
     "execution_count": 23,
     "metadata": {},
     "output_type": "execute_result"
    }
   ],
   "source": [
    "total_revenue = data['total_price'].sum()\n",
    "total_revenue"
   ]
  },
  {
   "cell_type": "code",
   "execution_count": 24,
   "id": "4b8ee258",
   "metadata": {},
   "outputs": [
    {
     "data": {
      "text/plain": [
       "5876"
      ]
     },
     "execution_count": 24,
     "metadata": {},
     "output_type": "execute_result"
    }
   ],
   "source": [
    "user = data['Customer ID'].nunique()\n",
    "user"
   ]
  },
  {
   "cell_type": "code",
   "execution_count": 53,
   "id": "d0821c36",
   "metadata": {},
   "outputs": [
    {
     "data": {
      "text/plain": [
       "2783.9711606535056"
      ]
     },
     "execution_count": 53,
     "metadata": {},
     "output_type": "execute_result"
    }
   ],
   "source": [
    "ARPPU = total_revenue / user\n",
    "ARPPU"
   ]
  },
  {
   "cell_type": "markdown",
   "id": "2ff9d65c",
   "metadata": {},
   "source": [
    "- Year ARPPU(Average Revenue Per Paying User)"
   ]
  },
  {
   "cell_type": "code",
   "execution_count": 62,
   "id": "2e3b9a27",
   "metadata": {},
   "outputs": [
    {
     "data": {
      "text/html": [
       "<div>\n",
       "<style scoped>\n",
       "    .dataframe tbody tr th:only-of-type {\n",
       "        vertical-align: middle;\n",
       "    }\n",
       "\n",
       "    .dataframe tbody tr th {\n",
       "        vertical-align: top;\n",
       "    }\n",
       "\n",
       "    .dataframe thead th {\n",
       "        text-align: right;\n",
       "    }\n",
       "</style>\n",
       "<table border=\"1\" class=\"dataframe\">\n",
       "  <thead>\n",
       "    <tr style=\"text-align: right;\">\n",
       "      <th></th>\n",
       "      <th>year</th>\n",
       "      <th>YARPPU</th>\n",
       "    </tr>\n",
       "  </thead>\n",
       "  <tbody>\n",
       "    <tr>\n",
       "      <th>0</th>\n",
       "      <td>2009</td>\n",
       "      <td>633.251596</td>\n",
       "    </tr>\n",
       "    <tr>\n",
       "      <th>1</th>\n",
       "      <td>2010</td>\n",
       "      <td>1890.232032</td>\n",
       "    </tr>\n",
       "    <tr>\n",
       "      <th>2</th>\n",
       "      <td>2011</td>\n",
       "      <td>1823.625475</td>\n",
       "    </tr>\n",
       "  </tbody>\n",
       "</table>\n",
       "</div>"
      ],
      "text/plain": [
       "   year       YARPPU\n",
       "0  2009   633.251596\n",
       "1  2010  1890.232032\n",
       "2  2011  1823.625475"
      ]
     },
     "execution_count": 62,
     "metadata": {},
     "output_type": "execute_result"
    }
   ],
   "source": [
    "YARPPU = data.groupby(['year']).sum()['total_price'] / data.groupby(['year']).nunique()['Customer ID']\n",
    "YARPPU_df = YARPPU.to_frame().reset_index().rename(columns={0 : 'YARPPU'})\n",
    "YARPPU_df"
   ]
  },
  {
   "cell_type": "code",
   "execution_count": 66,
   "id": "88a9678f",
   "metadata": {
    "collapsed": true
   },
   "outputs": [
    {
     "data": {
      "text/plain": [
       "<AxesSubplot:xlabel='year', ylabel='YARPPU'>"
      ]
     },
     "execution_count": 66,
     "metadata": {},
     "output_type": "execute_result"
    },
    {
     "data": {
      "image/png": "[encoded data removed]",
      "text/plain": [
       "<Figure size 1440x720 with 1 Axes>"
      ]
     },
     "metadata": {
      "needs_background": "light"
     },
     "output_type": "display_data"
    }
   ],
   "source": [
    "plt.figure(figsize=(20,10))\n",
    "sns.lineplot(x=YARPPU_df['year'], y=YARPPU_df['YARPPU'])"
   ]
  },
  {
   "cell_type": "markdown",
   "id": "5c1b6d8e",
   "metadata": {},
   "source": [
    "- Monthly ARPPU(Average Revenue Per Paying User)"
   ]
  },
  {
   "cell_type": "code",
   "execution_count": 67,
   "id": "0e8dd83d",
   "metadata": {
    "collapsed": true
   },
   "outputs": [
    {
     "data": {
      "text/html": [
       "<div>\n",
       "<style scoped>\n",
       "    .dataframe tbody tr th:only-of-type {\n",
       "        vertical-align: middle;\n",
       "    }\n",
       "\n",
       "    .dataframe tbody tr th {\n",
       "        vertical-align: top;\n",
       "    }\n",
       "\n",
       "    .dataframe thead th {\n",
       "        text-align: right;\n",
       "    }\n",
       "</style>\n",
       "<table border=\"1\" class=\"dataframe\">\n",
       "  <thead>\n",
       "    <tr style=\"text-align: right;\">\n",
       "      <th></th>\n",
       "      <th>year</th>\n",
       "      <th>month</th>\n",
       "      <th>MARPPU</th>\n",
       "    </tr>\n",
       "  </thead>\n",
       "  <tbody>\n",
       "    <tr>\n",
       "      <th>0</th>\n",
       "      <td>2009</td>\n",
       "      <td>12</td>\n",
       "      <td>633.251596</td>\n",
       "    </tr>\n",
       "    <tr>\n",
       "      <th>1</th>\n",
       "      <td>2010</td>\n",
       "      <td>1</td>\n",
       "      <td>707.513656</td>\n",
       "    </tr>\n",
       "    <tr>\n",
       "      <th>2</th>\n",
       "      <td>2010</td>\n",
       "      <td>2</td>\n",
       "      <td>605.118331</td>\n",
       "    </tr>\n",
       "    <tr>\n",
       "      <th>3</th>\n",
       "      <td>2010</td>\n",
       "      <td>3</td>\n",
       "      <td>600.057605</td>\n",
       "    </tr>\n",
       "    <tr>\n",
       "      <th>4</th>\n",
       "      <td>2010</td>\n",
       "      <td>4</td>\n",
       "      <td>582.744458</td>\n",
       "    </tr>\n",
       "    <tr>\n",
       "      <th>5</th>\n",
       "      <td>2010</td>\n",
       "      <td>5</td>\n",
       "      <td>524.786478</td>\n",
       "    </tr>\n",
       "    <tr>\n",
       "      <th>6</th>\n",
       "      <td>2010</td>\n",
       "      <td>6</td>\n",
       "      <td>557.911898</td>\n",
       "    </tr>\n",
       "    <tr>\n",
       "      <th>7</th>\n",
       "      <td>2010</td>\n",
       "      <td>7</td>\n",
       "      <td>573.661169</td>\n",
       "    </tr>\n",
       "    <tr>\n",
       "      <th>8</th>\n",
       "      <td>2010</td>\n",
       "      <td>8</td>\n",
       "      <td>604.629159</td>\n",
       "    </tr>\n",
       "    <tr>\n",
       "      <th>9</th>\n",
       "      <td>2010</td>\n",
       "      <td>9</td>\n",
       "      <td>656.142150</td>\n",
       "    </tr>\n",
       "    <tr>\n",
       "      <th>10</th>\n",
       "      <td>2010</td>\n",
       "      <td>10</td>\n",
       "      <td>634.700534</td>\n",
       "    </tr>\n",
       "    <tr>\n",
       "      <th>11</th>\n",
       "      <td>2010</td>\n",
       "      <td>11</td>\n",
       "      <td>666.912879</td>\n",
       "    </tr>\n",
       "    <tr>\n",
       "      <th>12</th>\n",
       "      <td>2010</td>\n",
       "      <td>12</td>\n",
       "      <td>578.557466</td>\n",
       "    </tr>\n",
       "    <tr>\n",
       "      <th>13</th>\n",
       "      <td>2011</td>\n",
       "      <td>1</td>\n",
       "      <td>604.397872</td>\n",
       "    </tr>\n",
       "    <tr>\n",
       "      <th>14</th>\n",
       "      <td>2011</td>\n",
       "      <td>2</td>\n",
       "      <td>548.695537</td>\n",
       "    </tr>\n",
       "    <tr>\n",
       "      <th>15</th>\n",
       "      <td>2011</td>\n",
       "      <td>3</td>\n",
       "      <td>563.557571</td>\n",
       "    </tr>\n",
       "    <tr>\n",
       "      <th>16</th>\n",
       "      <td>2011</td>\n",
       "      <td>4</td>\n",
       "      <td>470.008672</td>\n",
       "    </tr>\n",
       "    <tr>\n",
       "      <th>17</th>\n",
       "      <td>2011</td>\n",
       "      <td>5</td>\n",
       "      <td>604.381264</td>\n",
       "    </tr>\n",
       "    <tr>\n",
       "      <th>18</th>\n",
       "      <td>2011</td>\n",
       "      <td>6</td>\n",
       "      <td>610.704681</td>\n",
       "    </tr>\n",
       "    <tr>\n",
       "      <th>19</th>\n",
       "      <td>2011</td>\n",
       "      <td>7</td>\n",
       "      <td>590.850031</td>\n",
       "    </tr>\n",
       "    <tr>\n",
       "      <th>20</th>\n",
       "      <td>2011</td>\n",
       "      <td>8</td>\n",
       "      <td>627.026745</td>\n",
       "    </tr>\n",
       "    <tr>\n",
       "      <th>21</th>\n",
       "      <td>2011</td>\n",
       "      <td>9</td>\n",
       "      <td>711.821421</td>\n",
       "    </tr>\n",
       "    <tr>\n",
       "      <th>22</th>\n",
       "      <td>2011</td>\n",
       "      <td>10</td>\n",
       "      <td>675.838601</td>\n",
       "    </tr>\n",
       "    <tr>\n",
       "      <th>23</th>\n",
       "      <td>2011</td>\n",
       "      <td>11</td>\n",
       "      <td>652.463142</td>\n",
       "    </tr>\n",
       "    <tr>\n",
       "      <th>24</th>\n",
       "      <td>2011</td>\n",
       "      <td>12</td>\n",
       "      <td>494.374298</td>\n",
       "    </tr>\n",
       "  </tbody>\n",
       "</table>\n",
       "</div>"
      ],
      "text/plain": [
       "    year  month      MARPPU\n",
       "0   2009     12  633.251596\n",
       "1   2010      1  707.513656\n",
       "2   2010      2  605.118331\n",
       "3   2010      3  600.057605\n",
       "4   2010      4  582.744458\n",
       "5   2010      5  524.786478\n",
       "6   2010      6  557.911898\n",
       "7   2010      7  573.661169\n",
       "8   2010      8  604.629159\n",
       "9   2010      9  656.142150\n",
       "10  2010     10  634.700534\n",
       "11  2010     11  666.912879\n",
       "12  2010     12  578.557466\n",
       "13  2011      1  604.397872\n",
       "14  2011      2  548.695537\n",
       "15  2011      3  563.557571\n",
       "16  2011      4  470.008672\n",
       "17  2011      5  604.381264\n",
       "18  2011      6  610.704681\n",
       "19  2011      7  590.850031\n",
       "20  2011      8  627.026745\n",
       "21  2011      9  711.821421\n",
       "22  2011     10  675.838601\n",
       "23  2011     11  652.463142\n",
       "24  2011     12  494.374298"
      ]
     },
     "execution_count": 67,
     "metadata": {},
     "output_type": "execute_result"
    }
   ],
   "source": [
    "MARPPU = data.groupby(['year','month']).sum()['total_price'] / data.groupby(['year','month']).nunique()['Customer ID']\n",
    "MARPPU_df = MARPPU.to_frame().reset_index().rename(columns={0 : 'MARPPU'})\n",
    "MARPPU_df"
   ]
  },
  {
   "cell_type": "code",
   "execution_count": 71,
   "id": "6768ddb4",
   "metadata": {
    "collapsed": true
   },
   "outputs": [
    {
     "data": {
      "text/plain": [
       "<AxesSubplot:xlabel='month', ylabel='MARPPU'>"
      ]
     },
     "execution_count": 71,
     "metadata": {},
     "output_type": "execute_result"
    },
    {
     "data": {
      "image/png": "[encoded data removed]",
      "text/plain": [
       "<Figure size 1440x720 with 1 Axes>"
      ]
     },
     "metadata": {
      "needs_background": "light"
     },
     "output_type": "display_data"
    }
   ],
   "source": [
    "plt.figure(figsize=(20,10))\n",
    "sns.barplot(x=MARPPU_df['month'], y=MARPPU_df['MARPPU'], hue=MARPPU_df['year'])"
   ]
  },
  {
   "cell_type": "markdown",
   "id": "bc2b4da8",
   "metadata": {},
   "source": [
    "- Daily ARPPU(Average Revenue Per Paying User)"
   ]
  },
  {
   "cell_type": "code",
   "execution_count": 73,
   "id": "2c355f9d",
   "metadata": {},
   "outputs": [
    {
     "data": {
      "text/html": [
       "<div>\n",
       "<style scoped>\n",
       "    .dataframe tbody tr th:only-of-type {\n",
       "        vertical-align: middle;\n",
       "    }\n",
       "\n",
       "    .dataframe tbody tr th {\n",
       "        vertical-align: top;\n",
       "    }\n",
       "\n",
       "    .dataframe thead th {\n",
       "        text-align: right;\n",
       "    }\n",
       "</style>\n",
       "<table border=\"1\" class=\"dataframe\">\n",
       "  <thead>\n",
       "    <tr style=\"text-align: right;\">\n",
       "      <th></th>\n",
       "      <th>year</th>\n",
       "      <th>month</th>\n",
       "      <th>day</th>\n",
       "      <th>DARPU</th>\n",
       "    </tr>\n",
       "  </thead>\n",
       "  <tbody>\n",
       "    <tr>\n",
       "      <th>0</th>\n",
       "      <td>2009</td>\n",
       "      <td>12</td>\n",
       "      <td>1</td>\n",
       "      <td>369.228772</td>\n",
       "    </tr>\n",
       "    <tr>\n",
       "      <th>1</th>\n",
       "      <td>2009</td>\n",
       "      <td>12</td>\n",
       "      <td>2</td>\n",
       "      <td>534.308776</td>\n",
       "    </tr>\n",
       "    <tr>\n",
       "      <th>2</th>\n",
       "      <td>2009</td>\n",
       "      <td>12</td>\n",
       "      <td>3</td>\n",
       "      <td>547.087845</td>\n",
       "    </tr>\n",
       "    <tr>\n",
       "      <th>3</th>\n",
       "      <td>2009</td>\n",
       "      <td>12</td>\n",
       "      <td>4</td>\n",
       "      <td>405.746341</td>\n",
       "    </tr>\n",
       "    <tr>\n",
       "      <th>4</th>\n",
       "      <td>2009</td>\n",
       "      <td>12</td>\n",
       "      <td>5</td>\n",
       "      <td>377.040385</td>\n",
       "    </tr>\n",
       "    <tr>\n",
       "      <th>...</th>\n",
       "      <td>...</td>\n",
       "      <td>...</td>\n",
       "      <td>...</td>\n",
       "      <td>...</td>\n",
       "    </tr>\n",
       "    <tr>\n",
       "      <th>599</th>\n",
       "      <td>2011</td>\n",
       "      <td>12</td>\n",
       "      <td>5</td>\n",
       "      <td>485.370526</td>\n",
       "    </tr>\n",
       "    <tr>\n",
       "      <th>600</th>\n",
       "      <td>2011</td>\n",
       "      <td>12</td>\n",
       "      <td>6</td>\n",
       "      <td>338.463543</td>\n",
       "    </tr>\n",
       "    <tr>\n",
       "      <th>601</th>\n",
       "      <td>2011</td>\n",
       "      <td>12</td>\n",
       "      <td>7</td>\n",
       "      <td>690.379899</td>\n",
       "    </tr>\n",
       "    <tr>\n",
       "      <th>602</th>\n",
       "      <td>2011</td>\n",
       "      <td>12</td>\n",
       "      <td>8</td>\n",
       "      <td>408.445667</td>\n",
       "    </tr>\n",
       "    <tr>\n",
       "      <th>603</th>\n",
       "      <td>2011</td>\n",
       "      <td>12</td>\n",
       "      <td>9</td>\n",
       "      <td>421.791351</td>\n",
       "    </tr>\n",
       "  </tbody>\n",
       "</table>\n",
       "<p>604 rows × 4 columns</p>\n",
       "</div>"
      ],
      "text/plain": [
       "     year  month  day       DARPU\n",
       "0    2009     12    1  369.228772\n",
       "1    2009     12    2  534.308776\n",
       "2    2009     12    3  547.087845\n",
       "3    2009     12    4  405.746341\n",
       "4    2009     12    5  377.040385\n",
       "..    ...    ...  ...         ...\n",
       "599  2011     12    5  485.370526\n",
       "600  2011     12    6  338.463543\n",
       "601  2011     12    7  690.379899\n",
       "602  2011     12    8  408.445667\n",
       "603  2011     12    9  421.791351\n",
       "\n",
       "[604 rows x 4 columns]"
      ]
     },
     "execution_count": 73,
     "metadata": {},
     "output_type": "execute_result"
    }
   ],
   "source": [
    "DARPPU = data.groupby(['year','month', 'day']).sum()['total_price'] / data.groupby(['year','month', 'day']).nunique()['Customer ID']\n",
    "DARPPU_df = DARPPU.to_frame().reset_index().rename(columns={0 : 'DARPU'})\n",
    "DARPPU_df"
   ]
  },
  {
   "cell_type": "code",
   "execution_count": 82,
   "id": "66860dcc",
   "metadata": {},
   "outputs": [],
   "source": [
    "DARPPU_df = DARPPU_df.astype({'year':\"string\",\n",
    "                 'month':\"string\",\n",
    "                 'day':'string'})"
   ]
  },
  {
   "cell_type": "code",
   "execution_count": 84,
   "id": "1205137f",
   "metadata": {
    "collapsed": true
   },
   "outputs": [
    {
     "data": {
      "text/plain": [
       "<AxesSubplot:xlabel='day', ylabel='DARPU'>"
      ]
     },
     "execution_count": 84,
     "metadata": {},
     "output_type": "execute_result"
    },
    {
     "data": {
      "image/png": "[encoded data removed]",
      "text/plain": [
       "<Figure size 1440x720 with 1 Axes>"
      ]
     },
     "metadata": {
      "needs_background": "light"
     },
     "output_type": "display_data"
    }
   ],
   "source": [
    "plt.figure(figsize=(20,10))\n",
    "sns.lineplot(x=DARPPU_df['day'], y=DARPPU_df['DARPU'])"
   ]
  },
  {
   "cell_type": "code",
   "execution_count": null,
   "id": "1c22b0b4",
   "metadata": {},
   "outputs": [],
   "source": [
    "# month별로 쪼개서 그래프 그리기 (subplot)"
   ]
  }
 ],
 "metadata": {
  "kernelspec": {
   "display_name": "Python 3",
   "language": "python",
   "name": "python3"
  },
  "language_info": {
   "codemirror_mode": {
    "name": "ipython",
    "version": 3
   },
   "file_extension": ".py",
   "mimetype": "text/x-python",
   "name": "python",
   "nbconvert_exporter": "python",
   "pygments_lexer": "ipython3",
   "version": "3.8.6"
  }
 },
 "nbformat": 4,
 "nbformat_minor": 5
}
